{
 "cells": [
  {
   "cell_type": "markdown",
   "id": "ba27ba66",
   "metadata": {},
   "source": [
    "### Download dataset from kaggle\n"
   ]
  },
  {
   "cell_type": "code",
   "execution_count": 1,
   "id": "90e8dcf5",
   "metadata": {},
   "outputs": [],
   "source": [
    "# !pip install -q kaggle\n",
    "# !pip install opendatasets\n"
   ]
  },
  {
   "cell_type": "code",
   "execution_count": 2,
   "id": "f568a092",
   "metadata": {},
   "outputs": [],
   "source": [
    "# import opendatasets as od\n",
    "# od.download(\"https://www.kaggle.com/datasets/nani123456789/taxi-trip-fare-prediction/\")\n"
   ]
  },
  {
   "cell_type": "code",
   "execution_count": 3,
   "id": "a1088528",
   "metadata": {},
   "outputs": [
    {
     "name": "stderr",
     "output_type": "stream",
     "text": [
      "C:\\Users\\Sanjay Karki\\anaconda3\\lib\\site-packages\\numpy\\_distributor_init.py:30: UserWarning: loaded more than 1 DLL from .libs:\n",
      "C:\\Users\\Sanjay Karki\\anaconda3\\lib\\site-packages\\numpy\\.libs\\libopenblas.FB5AE2TYXYH2IJRDKGDGQ3XBKLKTF43H.gfortran-win_amd64.dll\n",
      "C:\\Users\\Sanjay Karki\\anaconda3\\lib\\site-packages\\numpy\\.libs\\libopenblas64__v0.3.21-gcc_10_3_0.dll\n",
      "  warnings.warn(\"loaded more than 1 DLL from .libs:\"\n"
     ]
    }
   ],
   "source": [
    "import numpy as np\n",
    "import pandas as pd\n",
    "import matplotlib.pyplot as plt\n",
    "import seaborn as sns\n",
    "from tqdm import tqdm\n",
    "import warnings\n",
    "\n",
    "from inspect import getmembers, isfunction  \n",
    "import os\n",
    "\n",
    "%matplotlib inline\n",
    "\n",
    "warnings.filterwarnings(\"ignore\")\n"
   ]
  },
  {
   "cell_type": "code",
   "execution_count": 4,
   "id": "cabafd1c",
   "metadata": {},
   "outputs": [],
   "source": [
    "# print(a for a in getmembers(np) if isfunction(a[1]))  \n",
    "# dir(os)\n"
   ]
  },
  {
   "cell_type": "markdown",
   "id": "a6bb8f36",
   "metadata": {},
   "source": [
    "### Why this?\n",
    "\n",
    "#### => To predict the fare of cab"
   ]
  },
  {
   "cell_type": "code",
   "execution_count": 5,
   "id": "d36ef693",
   "metadata": {},
   "outputs": [],
   "source": [
    "cwd = os.getcwd() \n",
    "# os.listdir(cwd)\n",
    "files= os.listdir(cwd+r'\\taxi_fare')\n",
    "\n",
    "train_data = pd.read_csv(cwd+r'\\taxi_fare\\train.csv', dtype={\"trip_duration \":\"float32\"})\n",
    "test = pd.read_csv(cwd+r'\\taxi_fare\\test.csv')"
   ]
  },
  {
   "cell_type": "code",
   "execution_count": 6,
   "id": "853885e5",
   "metadata": {},
   "outputs": [
    {
     "data": {
      "text/html": [
       "<div>\n",
       "<style scoped>\n",
       "    .dataframe tbody tr th:only-of-type {\n",
       "        vertical-align: middle;\n",
       "    }\n",
       "\n",
       "    .dataframe tbody tr th {\n",
       "        vertical-align: top;\n",
       "    }\n",
       "\n",
       "    .dataframe thead th {\n",
       "        text-align: right;\n",
       "    }\n",
       "</style>\n",
       "<table border=\"1\" class=\"dataframe\">\n",
       "  <thead>\n",
       "    <tr style=\"text-align: right;\">\n",
       "      <th></th>\n",
       "      <th>trip_duration</th>\n",
       "      <th>distance_traveled</th>\n",
       "      <th>num_of_passengers</th>\n",
       "      <th>fare</th>\n",
       "      <th>tip</th>\n",
       "      <th>miscellaneous_fees</th>\n",
       "      <th>total_fare</th>\n",
       "      <th>surge_applied</th>\n",
       "    </tr>\n",
       "  </thead>\n",
       "  <tbody>\n",
       "    <tr>\n",
       "      <th>0</th>\n",
       "      <td>748.0</td>\n",
       "      <td>2.75</td>\n",
       "      <td>1.0</td>\n",
       "      <td>75.00</td>\n",
       "      <td>24</td>\n",
       "      <td>6.300</td>\n",
       "      <td>105.300</td>\n",
       "      <td>0</td>\n",
       "    </tr>\n",
       "    <tr>\n",
       "      <th>1</th>\n",
       "      <td>1187.0</td>\n",
       "      <td>3.43</td>\n",
       "      <td>1.0</td>\n",
       "      <td>105.00</td>\n",
       "      <td>24</td>\n",
       "      <td>13.200</td>\n",
       "      <td>142.200</td>\n",
       "      <td>0</td>\n",
       "    </tr>\n",
       "    <tr>\n",
       "      <th>2</th>\n",
       "      <td>730.0</td>\n",
       "      <td>3.12</td>\n",
       "      <td>1.0</td>\n",
       "      <td>71.25</td>\n",
       "      <td>0</td>\n",
       "      <td>26.625</td>\n",
       "      <td>97.875</td>\n",
       "      <td>1</td>\n",
       "    </tr>\n",
       "    <tr>\n",
       "      <th>3</th>\n",
       "      <td>671.0</td>\n",
       "      <td>5.63</td>\n",
       "      <td>3.0</td>\n",
       "      <td>90.00</td>\n",
       "      <td>0</td>\n",
       "      <td>9.750</td>\n",
       "      <td>99.750</td>\n",
       "      <td>0</td>\n",
       "    </tr>\n",
       "    <tr>\n",
       "      <th>4</th>\n",
       "      <td>329.0</td>\n",
       "      <td>2.09</td>\n",
       "      <td>1.0</td>\n",
       "      <td>45.00</td>\n",
       "      <td>12</td>\n",
       "      <td>13.200</td>\n",
       "      <td>70.200</td>\n",
       "      <td>0</td>\n",
       "    </tr>\n",
       "    <tr>\n",
       "      <th>...</th>\n",
       "      <td>...</td>\n",
       "      <td>...</td>\n",
       "      <td>...</td>\n",
       "      <td>...</td>\n",
       "      <td>...</td>\n",
       "      <td>...</td>\n",
       "      <td>...</td>\n",
       "      <td>...</td>\n",
       "    </tr>\n",
       "    <tr>\n",
       "      <th>209668</th>\n",
       "      <td>1617.0</td>\n",
       "      <td>8.42</td>\n",
       "      <td>1.0</td>\n",
       "      <td>150.00</td>\n",
       "      <td>47</td>\n",
       "      <td>5.800</td>\n",
       "      <td>202.800</td>\n",
       "      <td>0</td>\n",
       "    </tr>\n",
       "    <tr>\n",
       "      <th>209669</th>\n",
       "      <td>438.0</td>\n",
       "      <td>1.29</td>\n",
       "      <td>1.0</td>\n",
       "      <td>48.75</td>\n",
       "      <td>12</td>\n",
       "      <td>34.575</td>\n",
       "      <td>95.325</td>\n",
       "      <td>1</td>\n",
       "    </tr>\n",
       "    <tr>\n",
       "      <th>209670</th>\n",
       "      <td>571.0</td>\n",
       "      <td>2.82</td>\n",
       "      <td>1.0</td>\n",
       "      <td>63.75</td>\n",
       "      <td>0</td>\n",
       "      <td>6.000</td>\n",
       "      <td>69.750</td>\n",
       "      <td>0</td>\n",
       "    </tr>\n",
       "    <tr>\n",
       "      <th>209671</th>\n",
       "      <td>491.0</td>\n",
       "      <td>2.16</td>\n",
       "      <td>1.0</td>\n",
       "      <td>56.25</td>\n",
       "      <td>0</td>\n",
       "      <td>13.500</td>\n",
       "      <td>69.750</td>\n",
       "      <td>0</td>\n",
       "    </tr>\n",
       "    <tr>\n",
       "      <th>209672</th>\n",
       "      <td>3614.0</td>\n",
       "      <td>33.72</td>\n",
       "      <td>1.0</td>\n",
       "      <td>337.50</td>\n",
       "      <td>0</td>\n",
       "      <td>2.250</td>\n",
       "      <td>339.750</td>\n",
       "      <td>0</td>\n",
       "    </tr>\n",
       "  </tbody>\n",
       "</table>\n",
       "<p>209673 rows × 8 columns</p>\n",
       "</div>"
      ],
      "text/plain": [
       "        trip_duration  distance_traveled  num_of_passengers    fare  tip  \\\n",
       "0               748.0               2.75                1.0   75.00   24   \n",
       "1              1187.0               3.43                1.0  105.00   24   \n",
       "2               730.0               3.12                1.0   71.25    0   \n",
       "3               671.0               5.63                3.0   90.00    0   \n",
       "4               329.0               2.09                1.0   45.00   12   \n",
       "...               ...                ...                ...     ...  ...   \n",
       "209668         1617.0               8.42                1.0  150.00   47   \n",
       "209669          438.0               1.29                1.0   48.75   12   \n",
       "209670          571.0               2.82                1.0   63.75    0   \n",
       "209671          491.0               2.16                1.0   56.25    0   \n",
       "209672         3614.0              33.72                1.0  337.50    0   \n",
       "\n",
       "        miscellaneous_fees  total_fare  surge_applied  \n",
       "0                    6.300     105.300              0  \n",
       "1                   13.200     142.200              0  \n",
       "2                   26.625      97.875              1  \n",
       "3                    9.750      99.750              0  \n",
       "4                   13.200      70.200              0  \n",
       "...                    ...         ...            ...  \n",
       "209668               5.800     202.800              0  \n",
       "209669              34.575      95.325              1  \n",
       "209670               6.000      69.750              0  \n",
       "209671              13.500      69.750              0  \n",
       "209672               2.250     339.750              0  \n",
       "\n",
       "[209673 rows x 8 columns]"
      ]
     },
     "execution_count": 6,
     "metadata": {},
     "output_type": "execute_result"
    }
   ],
   "source": [
    "train_data"
   ]
  },
  {
   "cell_type": "code",
   "execution_count": 7,
   "id": "f604dec8",
   "metadata": {},
   "outputs": [
    {
     "data": {
      "text/html": [
       "<div>\n",
       "<style scoped>\n",
       "    .dataframe tbody tr th:only-of-type {\n",
       "        vertical-align: middle;\n",
       "    }\n",
       "\n",
       "    .dataframe tbody tr th {\n",
       "        vertical-align: top;\n",
       "    }\n",
       "\n",
       "    .dataframe thead th {\n",
       "        text-align: right;\n",
       "    }\n",
       "</style>\n",
       "<table border=\"1\" class=\"dataframe\">\n",
       "  <thead>\n",
       "    <tr style=\"text-align: right;\">\n",
       "      <th></th>\n",
       "      <th>trip_duration</th>\n",
       "      <th>distance_traveled</th>\n",
       "      <th>num_of_passengers</th>\n",
       "      <th>fare</th>\n",
       "      <th>tip</th>\n",
       "      <th>miscellaneous_fees</th>\n",
       "      <th>total_fare</th>\n",
       "      <th>surge_applied</th>\n",
       "    </tr>\n",
       "  </thead>\n",
       "  <tbody>\n",
       "    <tr>\n",
       "      <th>count</th>\n",
       "      <td>209673.000000</td>\n",
       "      <td>209673.000000</td>\n",
       "      <td>209673.000000</td>\n",
       "      <td>209673.000000</td>\n",
       "      <td>209673.000000</td>\n",
       "      <td>209673.000000</td>\n",
       "      <td>209673.000000</td>\n",
       "      <td>209673.000000</td>\n",
       "    </tr>\n",
       "    <tr>\n",
       "      <th>mean</th>\n",
       "      <td>1173.181478</td>\n",
       "      <td>5.054431</td>\n",
       "      <td>1.292808</td>\n",
       "      <td>99.623431</td>\n",
       "      <td>13.030824</td>\n",
       "      <td>15.136829</td>\n",
       "      <td>127.791084</td>\n",
       "      <td>0.280523</td>\n",
       "    </tr>\n",
       "    <tr>\n",
       "      <th>std</th>\n",
       "      <td>4775.653621</td>\n",
       "      <td>125.217419</td>\n",
       "      <td>0.930754</td>\n",
       "      <td>85.602702</td>\n",
       "      <td>20.367764</td>\n",
       "      <td>12.553436</td>\n",
       "      <td>98.797374</td>\n",
       "      <td>0.449256</td>\n",
       "    </tr>\n",
       "    <tr>\n",
       "      <th>min</th>\n",
       "      <td>0.000000</td>\n",
       "      <td>0.020000</td>\n",
       "      <td>0.000000</td>\n",
       "      <td>0.000000</td>\n",
       "      <td>0.000000</td>\n",
       "      <td>-0.500000</td>\n",
       "      <td>0.000000</td>\n",
       "      <td>0.000000</td>\n",
       "    </tr>\n",
       "    <tr>\n",
       "      <th>25%</th>\n",
       "      <td>446.000000</td>\n",
       "      <td>1.950000</td>\n",
       "      <td>1.000000</td>\n",
       "      <td>52.500000</td>\n",
       "      <td>0.000000</td>\n",
       "      <td>6.000000</td>\n",
       "      <td>70.200000</td>\n",
       "      <td>0.000000</td>\n",
       "    </tr>\n",
       "    <tr>\n",
       "      <th>50%</th>\n",
       "      <td>707.000000</td>\n",
       "      <td>3.200000</td>\n",
       "      <td>1.000000</td>\n",
       "      <td>75.000000</td>\n",
       "      <td>9.000000</td>\n",
       "      <td>9.750000</td>\n",
       "      <td>101.700000</td>\n",
       "      <td>0.000000</td>\n",
       "    </tr>\n",
       "    <tr>\n",
       "      <th>75%</th>\n",
       "      <td>1098.000000</td>\n",
       "      <td>5.730000</td>\n",
       "      <td>1.000000</td>\n",
       "      <td>116.250000</td>\n",
       "      <td>20.000000</td>\n",
       "      <td>26.450000</td>\n",
       "      <td>152.250000</td>\n",
       "      <td>1.000000</td>\n",
       "    </tr>\n",
       "    <tr>\n",
       "      <th>max</th>\n",
       "      <td>86387.000000</td>\n",
       "      <td>57283.910000</td>\n",
       "      <td>9.000000</td>\n",
       "      <td>4466.250000</td>\n",
       "      <td>2500.000000</td>\n",
       "      <td>435.000000</td>\n",
       "      <td>4472.250000</td>\n",
       "      <td>1.000000</td>\n",
       "    </tr>\n",
       "  </tbody>\n",
       "</table>\n",
       "</div>"
      ],
      "text/plain": [
       "       trip_duration  distance_traveled  num_of_passengers           fare  \\\n",
       "count  209673.000000      209673.000000      209673.000000  209673.000000   \n",
       "mean     1173.181478           5.054431           1.292808      99.623431   \n",
       "std      4775.653621         125.217419           0.930754      85.602702   \n",
       "min         0.000000           0.020000           0.000000       0.000000   \n",
       "25%       446.000000           1.950000           1.000000      52.500000   \n",
       "50%       707.000000           3.200000           1.000000      75.000000   \n",
       "75%      1098.000000           5.730000           1.000000     116.250000   \n",
       "max     86387.000000       57283.910000           9.000000    4466.250000   \n",
       "\n",
       "                 tip  miscellaneous_fees     total_fare  surge_applied  \n",
       "count  209673.000000       209673.000000  209673.000000  209673.000000  \n",
       "mean       13.030824           15.136829     127.791084       0.280523  \n",
       "std        20.367764           12.553436      98.797374       0.449256  \n",
       "min         0.000000           -0.500000       0.000000       0.000000  \n",
       "25%         0.000000            6.000000      70.200000       0.000000  \n",
       "50%         9.000000            9.750000     101.700000       0.000000  \n",
       "75%        20.000000           26.450000     152.250000       1.000000  \n",
       "max      2500.000000          435.000000    4472.250000       1.000000  "
      ]
     },
     "execution_count": 7,
     "metadata": {},
     "output_type": "execute_result"
    }
   ],
   "source": [
    "train_data.describe()"
   ]
  },
  {
   "cell_type": "code",
   "execution_count": 8,
   "id": "d4240391",
   "metadata": {},
   "outputs": [
    {
     "name": "stdout",
     "output_type": "stream",
     "text": [
      "<class 'pandas.core.frame.DataFrame'>\n",
      "RangeIndex: 209673 entries, 0 to 209672\n",
      "Data columns (total 8 columns):\n",
      " #   Column              Non-Null Count   Dtype  \n",
      "---  ------              --------------   -----  \n",
      " 0   trip_duration       209673 non-null  float64\n",
      " 1   distance_traveled   209673 non-null  float64\n",
      " 2   num_of_passengers   209673 non-null  float64\n",
      " 3   fare                209673 non-null  float64\n",
      " 4   tip                 209673 non-null  int64  \n",
      " 5   miscellaneous_fees  209673 non-null  float64\n",
      " 6   total_fare          209673 non-null  float64\n",
      " 7   surge_applied       209673 non-null  int64  \n",
      "dtypes: float64(6), int64(2)\n",
      "memory usage: 12.8 MB\n"
     ]
    }
   ],
   "source": [
    "train_data.info()"
   ]
  },
  {
   "cell_type": "code",
   "execution_count": 9,
   "id": "f39f9d15",
   "metadata": {},
   "outputs": [],
   "source": [
    "# train_data.drop('surge_applied',axis=1)\n",
    "\n",
    "# train_data.astype({\"trip_duration \":\"float32\"}).dtypes\n",
    "cols = train_data.columns\n",
    "col_float32 = cols[:4], cols[5:7]\n",
    "\n",
    "res1 = dict(map(lambda x:(x, 'float32'),list(col_float32[0]) ))\n",
    "res2 = dict(map(lambda x:(x, 'float32'),list(col_float32[1]) ))\n",
    "res = {**res1,**res2}\n",
    "\n",
    "train_data = train_data.astype(res)\n"
   ]
  },
  {
   "cell_type": "markdown",
   "id": "aa3899dc",
   "metadata": {},
   "source": [
    "### EDA"
   ]
  },
  {
   "cell_type": "code",
   "execution_count": 10,
   "id": "8e387363",
   "metadata": {},
   "outputs": [
    {
     "data": {
      "image/png": "[encoded data removed]",
      "text/plain": [
       "<Figure size 1000x700 with 2 Axes>"
      ]
     },
     "metadata": {},
     "output_type": "display_data"
    }
   ],
   "source": [
    "def heatmap(df):\n",
    "    plt.figure(figsize=(10,7))\n",
    "    #trip_heatmap = np.triu(corr)\n",
    "    corr = df.corr()\n",
    "    mask = np.zeros_like(corr,dtype=np.bool)\n",
    "    mask[np.triu_indices_from(mask)]=True\n",
    "\n",
    "    sns.heatmap(corr, cmap='crest', annot=True, mask=mask, linewidths=0.5)\n",
    "\n",
    "    plt.title('Correlation Heatmap')\n",
    "    plt.show()\n",
    "\n",
    "    \n",
    "heatmap(train_data)"
   ]
  },
  {
   "cell_type": "code",
   "execution_count": 11,
   "id": "5274b433",
   "metadata": {},
   "outputs": [],
   "source": [
    "\n",
    "def scatter_plots(df,x,hue=None):\n",
    "    plt.style.use(\"ggplot\")\n",
    "    for col in df.columns:\n",
    "        if col != x:\n",
    "            if hue is not None:\n",
    "                sns.scatterplot(data=df,x=x, y=col,hue=hue)\n",
    "            else: \n",
    "                sns.scatterplot(data=df,x=x, y=col)\n",
    "            plt.show()\n",
    "            \n",
    "#scatter_plots(train_data,'total_fare',\"surge_applied\")"
   ]
  },
  {
   "cell_type": "code",
   "execution_count": 12,
   "id": "dc2d1926",
   "metadata": {},
   "outputs": [],
   "source": [
    "def dist_plots(df):\n",
    "    sns.set(style='dark',)\n",
    "    for col in df.columns:\n",
    "       \n",
    "        sns.displot(data=df, x=col,kind='kde')\n",
    "#         sns.histplot(data = df\n",
    "#             ,x = col\n",
    "#             ,color = 'purple'\n",
    "#             ,alpha = 1\n",
    "#             ,bins = 100\n",
    "#             )\n",
    "        plt.show()\n",
    "        \n",
    "# dist_plots(train_data)"
   ]
  },
  {
   "cell_type": "code",
   "execution_count": 13,
   "id": "3b3ffe48",
   "metadata": {},
   "outputs": [],
   "source": [
    "#Training process"
   ]
  },
  {
   "cell_type": "code",
   "execution_count": 14,
   "id": "70374881",
   "metadata": {},
   "outputs": [
    {
     "name": "stdout",
     "output_type": "stream",
     "text": [
      "<class 'pandas.core.frame.DataFrame'>\n",
      "RangeIndex: 209673 entries, 0 to 209672\n",
      "Data columns (total 3 columns):\n",
      " #   Column             Non-Null Count   Dtype  \n",
      "---  ------             --------------   -----  \n",
      " 0   trip_duration      209673 non-null  float32\n",
      " 1   distance_traveled  209673 non-null  float32\n",
      " 2   num_of_passengers  209673 non-null  float32\n",
      "dtypes: float32(3)\n",
      "memory usage: 2.4 MB\n"
     ]
    }
   ],
   "source": [
    "# negative_miscellaneous_fees=train_data.loc[train_data['miscellaneous_fees'] <0]\n",
    "# negative_miscellaneous_fees\n",
    "\n",
    "#https://www.kdnuggets.com/2019/06/select-rows-columns-pandas.html\n",
    "\n",
    "features = train_data.iloc[:,[0,1,2]]\n",
    "features.info()"
   ]
  },
  {
   "cell_type": "code",
   "execution_count": 15,
   "id": "5313094c",
   "metadata": {},
   "outputs": [],
   "source": [
    "# from sklearn.preprocessing import StandardScaler\n",
    "# df_normalized_bySklearn = features.copy() \n",
    "# numerical_cols = df_normalized_bySklearn.select_dtypes(include=['float64', 'int64']).columns\n",
    "# scaler = StandardScaler()\n",
    "# df_normalized_bySklearn[numerical_cols]= scaler.fit_transform(df_normalized_bySklearn[numerical_cols])"
   ]
  },
  {
   "cell_type": "code",
   "execution_count": 16,
   "id": "b2ec989f",
   "metadata": {
    "scrolled": true
   },
   "outputs": [],
   "source": [
    "\n",
    "class StandardScaler:\n",
    "    def fit_transform(self, df):\n",
    "        if isinstance(df,pd.DataFrame):\n",
    "            df_normalized = df.copy() \n",
    "            for col in df_normalized.columns:\n",
    "                df_normalized[col] =  (df_normalized[col]-np.mean(df_normalized[col]))/ (np.std(df_normalized[col]))\n",
    "\n",
    "            return np.array(df_normalized)\n",
    "        else:\n",
    "            np_data=df\n",
    "            m,n=np_data.shape\n",
    "            np_data = [[(np_data[:,i]-np.mean(np_data[:,i]))/ (np.std(np_data[:,i]))]\n",
    "                        for i in range(n)]\n",
    "            return np_data\n",
    "        \n",
    "\n",
    "STD = StandardScaler()\n",
    "\n",
    "features_SD = STD.fit_transform(features)\n"
   ]
  },
  {
   "cell_type": "code",
   "execution_count": 17,
   "id": "b3db9ae1",
   "metadata": {},
   "outputs": [],
   "source": [
    "features = np.array(features)"
   ]
  },
  {
   "cell_type": "code",
   "execution_count": 18,
   "id": "73b9de41",
   "metadata": {},
   "outputs": [
    {
     "name": "stdout",
     "output_type": "stream",
     "text": [
      "<class 'pandas.core.series.Series'>\n",
      "RangeIndex: 209673 entries, 0 to 209672\n",
      "Series name: fare\n",
      "Non-Null Count   Dtype  \n",
      "--------------   -----  \n",
      "209673 non-null  float32\n",
      "dtypes: float32(1)\n",
      "memory usage: 819.2 KB\n"
     ]
    }
   ],
   "source": [
    "fare = train_data['fare']\n",
    "fare.info()"
   ]
  },
  {
   "cell_type": "code",
   "execution_count": 19,
   "id": "51812418",
   "metadata": {},
   "outputs": [],
   "source": [
    "\n",
    "# np.random.seed(42)\n",
    "# x= np.random.rand(3,2)\n",
    "# split=np.random.choice(range(x.shape[0]), int(0.7*x.shape[0]), replace=False)\n",
    "# split_rem = np.delete(range(x.shape[0]),split)\n"
   ]
  },
  {
   "cell_type": "code",
   "execution_count": 20,
   "id": "bdeca8d5",
   "metadata": {},
   "outputs": [],
   "source": [
    "def train_test_split(X,y, test_size,random_state=None):\n",
    "    if isinstance(X,pd.DataFrame):\n",
    "        X= np.array(X)\n",
    "        \n",
    "    if random_state is not None: \n",
    "        np.random.seed(random_state)\n",
    "    else:\n",
    "        np.random.seed(42)\n",
    "    \n",
    "    split = np.random.choice(range(X.shape[0]), int((1-test_size)*X.shape[0]),replace=False)\n",
    "    split_rem = np.delete(range(X.shape[0]),split)\n",
    "\n",
    "    X_train = X[split]\n",
    "    y_train = y[split]\n",
    "    \n",
    "    X_test =  X[split_rem]\n",
    "    y_test = y[split_rem]\n",
    "    \n",
    "                        \n",
    "    return np.array(X_train), np.array(y_train), np.array(X_test), np.array(y_test)                         \n",
    "                             \n",
    "                             \n"
   ]
  },
  {
   "cell_type": "code",
   "execution_count": 21,
   "id": "d9444c8f",
   "metadata": {},
   "outputs": [],
   "source": [
    "X_train,y_train,X_test,y_test =train_test_split(features_SD,fare, test_size=0.3,random_state=3)\n",
    "\n",
    "y_train= np.reshape(y_train,(y_train.size, 1))\n",
    "y_test= np.reshape(y_test,(y_test.size, 1))"
   ]
  },
  {
   "cell_type": "code",
   "execution_count": 22,
   "id": "a432ab8b",
   "metadata": {},
   "outputs": [],
   "source": [
    "# x=  [x1,x2,1], W = [w1,w2,b]\n",
    "# y = W.X = x1.w1+x2.w2+b.1 \n",
    "#so add 1 to the x\n",
    "# y= [x1,x2,1].[w1,w2,b]\n",
    "\n"
   ]
  },
  {
   "cell_type": "code",
   "execution_count": 23,
   "id": "2b3da86c",
   "metadata": {},
   "outputs": [],
   "source": [
    "import sys,time,random\n",
    "def  progressBar(count, total, suffix=''):\n",
    "    barLength = 100\n",
    "    progressLen = int(round(barLength* count / float(total)))\n",
    "    percentage = round(100.0 * count/float(total),1)\n",
    "    bar = '=' * progressLen + '-' * (barLength - progressLen)\n",
    "    sys.stdout.write('[%s] %s%s ...%s\\r' %(bar, percentage, '%', suffix))\n",
    "    sys.stdout.flush()\n",
    "# for i in range(11):\n",
    "#     time.sleep(random.random())\n",
    "#     progressBar(i,10)"
   ]
  },
  {
   "cell_type": "markdown",
   "id": "b8d118f3",
   "metadata": {},
   "source": [
    "#  Batch gradient descent"
   ]
  },
  {
   "cell_type": "code",
   "execution_count": 24,
   "id": "22a55cf4",
   "metadata": {},
   "outputs": [],
   "source": [
    "\n",
    "def batchProcess(y_train,output):\n",
    "\n",
    "    output_shape = output.shape\n",
    "    batch_size=1000\n",
    "\n",
    "    num_batches=(output_shape[0] // batch_size) + 1\n",
    "\n",
    "    y_hat = np.empty(output_shape, dtype= np.float32)\n",
    "    for batch_num in range(num_batches):\n",
    "\n",
    "        start_idx = batch_num * batch_size\n",
    "        end_idx = min((batch_num + 1) * batch_size, output_shape[0])\n",
    "\n",
    "\n",
    "        batch_output = output[start_idx : end_idx]\n",
    "        batch_y_test = y_train[start_idx : end_idx]\n",
    "\n",
    "        y_hat[start_idx : end_idx] = batch_output - batch_y_test\n",
    "     \n",
    "    return y_hat\n"
   ]
  },
  {
   "cell_type": "code",
   "execution_count": 25,
   "id": "7ba3f444",
   "metadata": {},
   "outputs": [],
   "source": [
    "class LinearRegression1:\n",
    "    \n",
    "    def __init__(self, lr=0.01,epochs = 1000 ):\n",
    "        self.epochs = epochs\n",
    "        self.lr =lr\n",
    "        self.W = None\n",
    "        \n",
    "    def cost_fun(self,X,y,W):\n",
    "    \n",
    "        m,n = X.shape\n",
    "        y_pred= np.dot(X,W)\n",
    "        \n",
    "        output = batchProcess(y,y_pred)\n",
    "        loss = (1/ m) * np.sum(np.square(output))\n",
    "        \n",
    "        return loss, output\n",
    "        \n",
    "    def fit(self, X,y):\n",
    "        \n",
    "        m,n = X.shape\n",
    "        \n",
    "        self.W = np.reshape(np.zeros(n+1),(n+1, 1))\n",
    "        z=np.reshape(np.ones(m),(m,1))\n",
    "        X=np.concatenate((z,X), axis=1)\n",
    "        \n",
    "        for i in tqdm(range(self.epochs), desc=\"Training\", unit=\"epoch\"):\n",
    "\n",
    "            loss, output =self.cost_fun(X,y,self.W )\n",
    "            grad =(1 / m) * np.dot(X.T,output)\n",
    "            self.W -= self.lr * grad      \n",
    "            \n",
    "        print(f\"loss:{loss}\")\n",
    "     \n",
    "    def predict(self,x_test):\n",
    "        \n",
    "        return np.dot(x_test,self.W[1:]) + W[0]\n",
    "        "
   ]
  },
  {
   "cell_type": "code",
   "execution_count": 26,
   "id": "19b6d14d",
   "metadata": {},
   "outputs": [],
   "source": [
    "class LinearRegression2:\n",
    "    \n",
    "    def __init__(self, lr=0.01,epochs = 1000 ):\n",
    "        self.epochs = epochs\n",
    "        self.lr =lr\n",
    "        self.weights = None\n",
    "        self.bias = None\n",
    "        \n",
    "    def fit(self,X,y):\n",
    "        \n",
    "        n_samples , n_features = X.shape\n",
    "        self.weights = np.reshape(np.zeros(n_features) , (n_features,1))\n",
    "        self.bias =0\n",
    "        \n",
    "        for epoch in tqdm(range(self.epochs), desc=\"Training\", unit=\"epoch\"):\n",
    "            \n",
    "            y_pred = np.dot(X, self.weights) + self.bias\n",
    "            \n",
    "            loss = (1 / n_samples) * np.sum(np.square((y_pred-y)))\n",
    "            \n",
    "             dw = (1 / n_samples) * np.dot(X.T, (y_pred-y))  \n",
    "            db= (1 / n_samples) * np.sum(y_pred - y)\n",
    "            \n",
    "            self.weights -= self.lr * dw\n",
    "            self.bias -= self.lr * db\n",
    "            \n",
    "        print(f'loss:{loss}')\n",
    "            \n",
    "    def predict(self, x_test):\n",
    "        y_predicted = np.dot(x_test, self.weights) + self.bias\n",
    "        return y_predicted\n",
    "\n",
    "            \n",
    "            \n",
    "        "
   ]
  },
  {
   "cell_type": "markdown",
   "id": "96058479",
   "metadata": {},
   "source": [
    "# Stochastic gradient descent"
   ]
  },
  {
   "cell_type": "code",
   "execution_count": 58,
   "id": "be41c4c6",
   "metadata": {},
   "outputs": [],
   "source": [
    "class SGDRegressor:\n",
    "    \n",
    "    def __init__(self, lr=0.01,epochs = 1000 ):\n",
    "        self.epochs = epochs\n",
    "        self.lr =lr\n",
    "        self.weights = None\n",
    "        self.bias = None\n",
    "        \n",
    "    def fit(self,X,y):\n",
    "        \n",
    "        n_samples , n_features = X.shape\n",
    "        self.weights = np.reshape(np.zeros(n_features) , (n_features,1))\n",
    "        self.bias =0\n",
    "        \n",
    "        for epoch in tqdm(range(self.epochs), desc=\"Training\", unit=\"epoch\"):\n",
    "            for j in range(n_samples):\n",
    "                \n",
    "                idx = np.random.randint(0, n_samples)\n",
    "                x = np.reshape(X[idx],(1,n_features))\n",
    "                y_pred = np.dot(x, self.weights) + self.bias\n",
    "                \n",
    "                dw = (1 / n_samples) * np.dot(x.T, (y_pred - y[idx]))  \n",
    "                db= (1 / n_samples) * np.sum(y_pred - y[idx])\n",
    "\n",
    "                self.weights -= self.lr * dw\n",
    "                self.bias -= self.lr * db\n",
    "            \n",
    "\n",
    "            \n",
    "    def predict(self, x_test):\n",
    "        y_predicted = np.dot(x_test, self.weights) + self.bias\n",
    "        return y_predicted\n",
    "\n",
    "            \n",
    "            \n",
    "        "
   ]
  },
  {
   "cell_type": "code",
   "execution_count": 83,
   "id": "57b5a8aa",
   "metadata": {},
   "outputs": [
    {
     "name": "stderr",
     "output_type": "stream",
     "text": [
      "Training: 100%|█████████████████████████| 20/20 [00:02<00:00,  6.70epoch/s]\n"
     ]
    }
   ],
   "source": [
    "model = SGDRegressor(lr=0.5, epochs =20)\n",
    "model.fit(X_train[:5000],y_train[:5000])"
   ]
  },
  {
   "cell_type": "code",
   "execution_count": 78,
   "id": "31de80b4",
   "metadata": {},
   "outputs": [
    {
     "name": "stderr",
     "output_type": "stream",
     "text": [
      "Training: 100%|███████████████████████| 20/20 [00:00<00:00, 6684.68epoch/s]"
     ]
    },
    {
     "name": "stdout",
     "output_type": "stream",
     "text": [
      "loss:5074.07532707471\n"
     ]
    },
    {
     "name": "stderr",
     "output_type": "stream",
     "text": [
      "\n"
     ]
    }
   ],
   "source": [
    "model = LinearRegression2(lr=0.5, epochs =20)\n",
    "model.fit(X_train[:300],y_train[:300])"
   ]
  },
  {
   "cell_type": "code",
   "execution_count": 92,
   "id": "98b9dec8",
   "metadata": {},
   "outputs": [],
   "source": [
    "\n",
    "my_predict= model.predict(X_test[:100])\n",
    "#print(f' predict: \\n{my_predict}')\n",
    "# print('\\n')\n",
    "# print(f' Actual: \\n{Y}')"
   ]
  },
  {
   "cell_type": "code",
   "execution_count": 106,
   "id": "5f51bf5f",
   "metadata": {},
   "outputs": [
    {
     "data": {
      "text/plain": [
       "4663.287430532155"
      ]
     },
     "execution_count": 106,
     "metadata": {},
     "output_type": "execute_result"
    }
   ],
   "source": [
    "def mean_squared_error(y_true, y_pred):\n",
    "        return np.mean((y_true - y_pred) ** 2)\n",
    "mean_squared_error(y_test[:100],my_predict)"
   ]
  },
  {
   "cell_type": "code",
   "execution_count": null,
   "id": "5399d4ff",
   "metadata": {},
   "outputs": [],
   "source": []
  }
 ],
 "metadata": {
  "kernelspec": {
   "display_name": "Python 3 (ipykernel)",
   "language": "python",
   "name": "python3"
  },
  "language_info": {
   "codemirror_mode": {
    "name": "ipython",
    "version": 3
   },
   "file_extension": ".py",
   "mimetype": "text/x-python",
   "name": "python",
   "nbconvert_exporter": "python",
   "pygments_lexer": "ipython3",
   "version": "3.9.17"
  }
 },
 "nbformat": 4,
 "nbformat_minor": 5
}
